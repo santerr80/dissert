{
 "cells": [
  {
   "cell_type": "code",
   "execution_count": 6,
   "id": "3a27c66b",
   "metadata": {},
   "outputs": [],
   "source": [
    "import os\n",
    "from PIL import Image\n",
    "\n",
    "# Укажите нужную директорию\n",
    "directory = r\"D:\\URFU\\VKR\\Ind_pract\\dissert\\data\\classification\\class1\"\n",
    "\n",
    "for filename in os.listdir(directory):\n",
    "    if filename.lower().endswith(\".png\"):\n",
    "        filepath = os.path.join(directory, filename)\n",
    "        try:\n",
    "            with Image.open(filepath) as img:\n",
    "                img.verify()  # Проверяем, что изображение можно открыть\n",
    "        except Exception as e:\n",
    "            print(f\"Удаляю повреждённый файл: {filename} ({e})\")\n",
    "            os.remove(filepath)"
   ]
  },
  {
   "cell_type": "code",
   "execution_count": null,
   "id": "dd6b1e85",
   "metadata": {},
   "outputs": [],
   "source": [
    "# Импорт библиотек\n",
    "import numpy as np\n",
    "import torch\n",
    "import torchvision.models as models\n",
    "import torchvision.transforms as transforms\n",
    "from xgboost import XGBClassifier\n",
    "from sklearn.model_selection import train_test_split\n",
    "from sklearn.metrics import accuracy_score, f1_score, roc_auc_score\n",
    "from PIL import Image\n",
    "from imblearn.over_sampling import SMOTE\n",
    "import os\n",
    "\n",
    "# Подготовка данных\n",
    "def load_images_and_labels (root_dir):\n",
    "    images = []\n",
    "    labels = []\n",
    "    transform = transforms.Compose([\n",
    "        transforms.Resize(256),\n",
    "        transforms.ToTensor(),\n",
    "        transforms.Normalize(mean=[0.485, 0.456, 0.406], std=[0.229, 0.224, 0.225])\n",
    "    ])\n",
    "    \n",
    "    for class_dir in os.listdir(root_dir):\n",
    "        class_path = os.path.join(root_dir, class_dir)\n",
    "        if os.path.isdir(class_path):\n",
    "            label = 0 if class_dir == \"class0\" else 1\n",
    "            for img_file in os.listdir(class_path):\n",
    "                img_path = os.path.join(class_path, img_file)\n",
    "                img = Image.open(img_path).convert('RGB')\n",
    "                img = transform(img)\n",
    "                images.append(img)\n",
    "                labels.append(label)\n",
    "    return torch.stack(images), np.array(labels)\n",
    "\n",
    "# Извлечение признаков с помощью ResNet50\n",
    "def extract_features(images):\n",
    "    model = models.resnet50(pretrained=True)\n",
    "    model = torch.nn.Sequential(*list(model.children())[:-1])\n",
    "    model.eval()\n",
    "    with torch.no_grad():\n",
    "        features = model(images)\n",
    "    return features.squeeze().numpy()\n"
   ]
  },
  {
   "cell_type": "code",
   "execution_count": 8,
   "id": "ce4d7fbd",
   "metadata": {},
   "outputs": [
    {
     "ename": "KeyboardInterrupt",
     "evalue": "",
     "output_type": "error",
     "traceback": [
      "\u001b[31m---------------------------------------------------------------------------\u001b[39m",
      "\u001b[31mKeyboardInterrupt\u001b[39m                         Traceback (most recent call last)",
      "\u001b[36mCell\u001b[39m\u001b[36m \u001b[39m\u001b[32mIn[8]\u001b[39m\u001b[32m, line 3\u001b[39m\n\u001b[32m      1\u001b[39m \u001b[38;5;66;03m# Загрузка данных\u001b[39;00m\n\u001b[32m      2\u001b[39m root_dir = \u001b[33mr\u001b[39m\u001b[33m\"\u001b[39m\u001b[33mD:\u001b[39m\u001b[33m\\\u001b[39m\u001b[33mURFU\u001b[39m\u001b[33m\\\u001b[39m\u001b[33mVKR\u001b[39m\u001b[33m\\\u001b[39m\u001b[33mInd_pract\u001b[39m\u001b[33m\\\u001b[39m\u001b[33mdissert\u001b[39m\u001b[33m\\\u001b[39m\u001b[33mdata\u001b[39m\u001b[33m\\\u001b[39m\u001b[33mclassification\u001b[39m\u001b[33m\"\u001b[39m  \u001b[38;5;66;03m# Укажите путь\u001b[39;00m\n\u001b[32m----> \u001b[39m\u001b[32m3\u001b[39m images, labels = \u001b[43mload_images_and_labels\u001b[49m\u001b[43m(\u001b[49m\u001b[43mroot_dir\u001b[49m\u001b[43m)\u001b[49m\n\u001b[32m      4\u001b[39m features = extract_features(images)\n",
      "\u001b[36mCell\u001b[39m\u001b[36m \u001b[39m\u001b[32mIn[7]\u001b[39m\u001b[32m, line 28\u001b[39m, in \u001b[36mload_images_and_labels\u001b[39m\u001b[34m(root_dir)\u001b[39m\n\u001b[32m     26\u001b[39m \u001b[38;5;28;01mfor\u001b[39;00m img_file \u001b[38;5;129;01min\u001b[39;00m os.listdir(class_path):\n\u001b[32m     27\u001b[39m     img_path = os.path.join(class_path, img_file)\n\u001b[32m---> \u001b[39m\u001b[32m28\u001b[39m     img = \u001b[43mImage\u001b[49m\u001b[43m.\u001b[49m\u001b[43mopen\u001b[49m\u001b[43m(\u001b[49m\u001b[43mimg_path\u001b[49m\u001b[43m)\u001b[49m.convert(\u001b[33m'\u001b[39m\u001b[33mRGB\u001b[39m\u001b[33m'\u001b[39m)\n\u001b[32m     29\u001b[39m     img = transform(img)\n\u001b[32m     30\u001b[39m     images.append(img)\n",
      "\u001b[36mFile \u001b[39m\u001b[32mc:\\ProgramData\\anaconda3\\envs\\vkr\\Lib\\site-packages\\PIL\\Image.py:3465\u001b[39m, in \u001b[36mopen\u001b[39m\u001b[34m(fp, mode, formats)\u001b[39m\n\u001b[32m   3462\u001b[39m     filename = os.fspath(fp)\n\u001b[32m   3464\u001b[39m \u001b[38;5;28;01mif\u001b[39;00m filename:\n\u001b[32m-> \u001b[39m\u001b[32m3465\u001b[39m     fp = \u001b[43mbuiltins\u001b[49m\u001b[43m.\u001b[49m\u001b[43mopen\u001b[49m\u001b[43m(\u001b[49m\u001b[43mfilename\u001b[49m\u001b[43m,\u001b[49m\u001b[43m \u001b[49m\u001b[33;43m\"\u001b[39;49m\u001b[33;43mrb\u001b[39;49m\u001b[33;43m\"\u001b[39;49m\u001b[43m)\u001b[49m\n\u001b[32m   3466\u001b[39m     exclusive_fp = \u001b[38;5;28;01mTrue\u001b[39;00m\n\u001b[32m   3467\u001b[39m \u001b[38;5;28;01melse\u001b[39;00m:\n",
      "\u001b[31mKeyboardInterrupt\u001b[39m: "
     ]
    }
   ],
   "source": [
    "\n",
    "# Загрузка данных\n",
    "root_dir = r\"D:\\URFU\\VKR\\Ind_pract\\dissert\\data\\classification\" \n",
    "images, labels = load_images_and_labels(root_dir)\n",
    "features = extract_features(images)\n"
   ]
  },
  {
   "cell_type": "code",
   "execution_count": null,
   "id": "6179dea5",
   "metadata": {},
   "outputs": [],
   "source": [
    "\n",
    "# Разделение данных\n",
    "X_train, X_test, y_train, y_test = train_test_split(\n",
    "    features, labels, test_size=0.2, stratify=labels, random_state=42\n",
    ")\n",
    "sm = SMOTE()\n",
    "X_resampled, y_resampled = sm.fit_resample(X_train, y_train)\n"
   ]
  },
  {
   "cell_type": "code",
   "execution_count": null,
   "id": "22c4432e",
   "metadata": {},
   "outputs": [],
   "source": [
    "\n",
    "# Обучение XGBoost\n",
    "model = XGBClassifier(\n",
    "    objective='binary:logistic',\n",
    "    n_estimators=100,\n",
    "    max_depth=5,\n",
    "    learning_rate=0.1,\n",
    "    subsample=0.8,\n",
    "    colsample_bytree=0.8,\n",
    "    reg_alpha=0.5,\n",
    "    eval_metric='logloss',\n",
    "    use_label_encoder=False\n",
    ")\n"
   ]
  },
  {
   "cell_type": "code",
   "execution_count": null,
   "id": "8896ae1f",
   "metadata": {},
   "outputs": [],
   "source": [
    "\n",
    "model.fit(X_resampled, y_resampled)\n"
   ]
  },
  {
   "cell_type": "code",
   "execution_count": null,
   "id": "93898e6d",
   "metadata": {},
   "outputs": [],
   "source": [
    "\n",
    "# Оценка модели\n",
    "y_pred = model.predict(X_test)\n",
    "y_proba = model.predict_proba(X_test)[:, 1]\n",
    "\n",
    "print(f\"Accuracy: {accuracy_score(y_test, y_pred):.4f}\")\n",
    "print(f\"F1 Score: {f1_score(y_test, y_pred):.4f}\")\n",
    "print(f\"ROC-AUC: {roc_auc_score(y_test, y_proba):.4f}\")\n"
   ]
  }
 ],
 "metadata": {
  "kernelspec": {
   "display_name": "vkr",
   "language": "python",
   "name": "python3"
  },
  "language_info": {
   "codemirror_mode": {
    "name": "ipython",
    "version": 3
   },
   "file_extension": ".py",
   "mimetype": "text/x-python",
   "name": "python",
   "nbconvert_exporter": "python",
   "pygments_lexer": "ipython3",
   "version": "3.13.3"
  }
 },
 "nbformat": 4,
 "nbformat_minor": 5
}
