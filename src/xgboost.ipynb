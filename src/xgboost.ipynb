{
 "cells": [
  {
   "cell_type": "markdown",
   "id": "926bd69b",
   "metadata": {},
   "source": [
    "# XGBoost для бинарной классификации снимков"
   ]
  },
  {
   "cell_type": "code",
   "execution_count": null,
   "id": "dd6b1e85",
   "metadata": {},
   "outputs": [],
   "source": [
    "# Импорт библиотек\n",
    "import numpy as np\n",
    "import torch\n",
    "import torchvision.models as models\n",
    "import torchvision.transforms as transforms\n",
    "from torchvision.models import ResNet50_Weights\n",
    "from xgboost import XGBClassifier\n",
    "from sklearn.model_selection import train_test_split\n",
    "from sklearn.metrics import accuracy_score, f1_score, roc_auc_score\n",
    "from PIL import Image\n",
    "from imblearn.over_sampling import SMOTE\n",
    "import os\n",
    "\n",
    "# Загрузка изображений и меток \n",
    "def load_images_and_labels(root_dir):\n",
    "    images = []\n",
    "    labels = []\n",
    "    transform = transforms.Compose([\n",
    "        transforms.Resize(256),\n",
    "        transforms.CenterCrop(224),\n",
    "        transforms.ToTensor(),\n",
    "        transforms.Normalize(mean=[0.485, 0.456, 0.406], std=[0.229, 0.224, 0.225])\n",
    "    ])\n",
    "\n",
    "    for class_dir in os.listdir(root_dir):\n",
    "        class_path = os.path.join(root_dir, class_dir)\n",
    "        if os.path.isdir(class_path):\n",
    "            label = 0 if class_dir == \"class0\" else 1\n",
    "            for img_file in os.listdir(class_path):\n",
    "                img_path = os.path.join(class_path, img_file)\n",
    "                img = Image.open(img_path).convert('RGB')\n",
    "                img = transform(img)\n",
    "                images.append(img)\n",
    "                labels.append(label)\n",
    "    return images, np.array(labels)\n",
    "\n",
    "# Извлечение признаков \n",
    "def extract_features(images, batch_size=32):\n",
    "    device = torch.device('cuda' if torch.cuda.is_available() else 'cpu')\n",
    "    model = models.resnet50(weights=ResNet50_Weights.IMAGENET1K_V1)\n",
    "    model = torch.nn.Sequential(*list(model.children())[:-1])\n",
    "    model.eval()\n",
    "    model.to(device)\n",
    "\n",
    "    features_list = []\n",
    "    with torch.no_grad():\n",
    "        for i in range(0, len(images), batch_size):\n",
    "            batch = images[i:i+batch_size]\n",
    "            batch = torch.stack(batch).to(device)\n",
    "            feats = model(batch)\n",
    "            feats = feats.view(feats.size(0), -1)\n",
    "            features_list.append(feats.cpu().numpy())\n",
    "    return np.vstack(features_list)\n"
   ]
  },
  {
   "cell_type": "code",
   "execution_count": null,
   "id": "ce4d7fbd",
   "metadata": {},
   "outputs": [],
   "source": [
    "# Подготовка данных\n",
    "root_dir = r\"D:\\URFU\\VKR\\Ind_pract\\dissert\\data\\classification\"\n",
    "images, labels = load_images_and_labels(root_dir)\n",
    "features = extract_features(images)"
   ]
  },
  {
   "cell_type": "code",
   "execution_count": null,
   "id": "6179dea5",
   "metadata": {},
   "outputs": [],
   "source": [
    "# Разделение данных на тестовую и тренировочную выборки\n",
    "X_train, X_test, y_train, y_test = train_test_split(\n",
    "    features, labels, test_size=0.2, stratify=labels, random_state=42\n",
    ")\n",
    "\n",
    "# Устранение дисбаланса классов\n",
    "sm = SMOTE()\n",
    "X_train, y_train = sm.fit_resample(X_train, y_train) # type: ignore\n"
   ]
  },
  {
   "cell_type": "markdown",
   "id": "6602a8ee",
   "metadata": {},
   "source": [
    "## Обучение модели"
   ]
  },
  {
   "cell_type": "code",
   "execution_count": null,
   "id": "22c4432e",
   "metadata": {},
   "outputs": [
    {
     "name": "stdout",
     "output_type": "stream",
     "text": [
      "Fitting 5 folds for each of 16 candidates, totalling 80 fits\n",
      "[CV] END colsample_bytree=0.7, learning_rate=0.01, max_depth=3, n_estimators=50, reg_alpha=0.1, subsample=0.7; total time=   1.6s\n",
      "[CV] END colsample_bytree=0.7, learning_rate=0.01, max_depth=3, n_estimators=50, reg_alpha=0.1, subsample=0.7; total time=   1.3s\n",
      "[CV] END colsample_bytree=0.7, learning_rate=0.01, max_depth=3, n_estimators=50, reg_alpha=0.1, subsample=0.7; total time=   1.2s\n",
      "[CV] END colsample_bytree=0.7, learning_rate=0.01, max_depth=3, n_estimators=50, reg_alpha=0.1, subsample=0.7; total time=   1.3s\n",
      "[CV] END colsample_bytree=0.7, learning_rate=0.01, max_depth=3, n_estimators=50, reg_alpha=0.1, subsample=0.7; total time=   1.3s\n",
      "[CV] END colsample_bytree=0.7, learning_rate=0.01, max_depth=3, n_estimators=50, reg_alpha=0.5, subsample=0.7; total time=   1.5s\n",
      "[CV] END colsample_bytree=0.7, learning_rate=0.01, max_depth=3, n_estimators=50, reg_alpha=0.5, subsample=0.7; total time=   1.5s\n",
      "[CV] END colsample_bytree=0.7, learning_rate=0.01, max_depth=3, n_estimators=50, reg_alpha=0.5, subsample=0.7; total time=   1.5s\n",
      "[CV] END colsample_bytree=0.7, learning_rate=0.01, max_depth=3, n_estimators=50, reg_alpha=0.5, subsample=0.7; total time=   1.7s\n",
      "[CV] END colsample_bytree=0.7, learning_rate=0.01, max_depth=3, n_estimators=50, reg_alpha=0.5, subsample=0.7; total time=   1.4s\n",
      "[CV] END colsample_bytree=0.7, learning_rate=0.01, max_depth=3, n_estimators=100, reg_alpha=0.1, subsample=0.7; total time=   2.1s\n",
      "[CV] END colsample_bytree=0.7, learning_rate=0.01, max_depth=3, n_estimators=100, reg_alpha=0.1, subsample=0.7; total time=   2.0s\n",
      "[CV] END colsample_bytree=0.7, learning_rate=0.01, max_depth=3, n_estimators=100, reg_alpha=0.1, subsample=0.7; total time=   2.0s\n",
      "[CV] END colsample_bytree=0.7, learning_rate=0.01, max_depth=3, n_estimators=100, reg_alpha=0.1, subsample=0.7; total time=   2.0s\n",
      "[CV] END colsample_bytree=0.7, learning_rate=0.01, max_depth=3, n_estimators=100, reg_alpha=0.1, subsample=0.7; total time=   2.0s\n",
      "[CV] END colsample_bytree=0.7, learning_rate=0.01, max_depth=3, n_estimators=100, reg_alpha=0.5, subsample=0.7; total time=   2.0s\n",
      "[CV] END colsample_bytree=0.7, learning_rate=0.01, max_depth=3, n_estimators=100, reg_alpha=0.5, subsample=0.7; total time=   2.0s\n",
      "[CV] END colsample_bytree=0.7, learning_rate=0.01, max_depth=3, n_estimators=100, reg_alpha=0.5, subsample=0.7; total time=   2.0s\n",
      "[CV] END colsample_bytree=0.7, learning_rate=0.01, max_depth=3, n_estimators=100, reg_alpha=0.5, subsample=0.7; total time=   2.0s\n",
      "[CV] END colsample_bytree=0.7, learning_rate=0.01, max_depth=3, n_estimators=100, reg_alpha=0.5, subsample=0.7; total time=   1.9s\n",
      "[CV] END colsample_bytree=0.7, learning_rate=0.01, max_depth=5, n_estimators=50, reg_alpha=0.1, subsample=0.7; total time=   2.7s\n",
      "[CV] END colsample_bytree=0.7, learning_rate=0.01, max_depth=5, n_estimators=50, reg_alpha=0.1, subsample=0.7; total time=   2.7s\n",
      "[CV] END colsample_bytree=0.7, learning_rate=0.01, max_depth=5, n_estimators=50, reg_alpha=0.1, subsample=0.7; total time=   2.5s\n",
      "[CV] END colsample_bytree=0.7, learning_rate=0.01, max_depth=5, n_estimators=50, reg_alpha=0.1, subsample=0.7; total time=   2.6s\n",
      "[CV] END colsample_bytree=0.7, learning_rate=0.01, max_depth=5, n_estimators=50, reg_alpha=0.1, subsample=0.7; total time=   2.5s\n",
      "[CV] END colsample_bytree=0.7, learning_rate=0.01, max_depth=5, n_estimators=50, reg_alpha=0.5, subsample=0.7; total time=   2.5s\n",
      "[CV] END colsample_bytree=0.7, learning_rate=0.01, max_depth=5, n_estimators=50, reg_alpha=0.5, subsample=0.7; total time=   2.5s\n",
      "[CV] END colsample_bytree=0.7, learning_rate=0.01, max_depth=5, n_estimators=50, reg_alpha=0.5, subsample=0.7; total time=   2.5s\n",
      "[CV] END colsample_bytree=0.7, learning_rate=0.01, max_depth=5, n_estimators=50, reg_alpha=0.5, subsample=0.7; total time=   2.6s\n",
      "[CV] END colsample_bytree=0.7, learning_rate=0.01, max_depth=5, n_estimators=50, reg_alpha=0.5, subsample=0.7; total time=   2.5s\n",
      "[CV] END colsample_bytree=0.7, learning_rate=0.01, max_depth=5, n_estimators=100, reg_alpha=0.1, subsample=0.7; total time=   3.9s\n",
      "[CV] END colsample_bytree=0.7, learning_rate=0.01, max_depth=5, n_estimators=100, reg_alpha=0.1, subsample=0.7; total time=   4.0s\n",
      "[CV] END colsample_bytree=0.7, learning_rate=0.01, max_depth=5, n_estimators=100, reg_alpha=0.1, subsample=0.7; total time=   4.0s\n",
      "[CV] END colsample_bytree=0.7, learning_rate=0.01, max_depth=5, n_estimators=100, reg_alpha=0.1, subsample=0.7; total time=   4.0s\n",
      "[CV] END colsample_bytree=0.7, learning_rate=0.01, max_depth=5, n_estimators=100, reg_alpha=0.1, subsample=0.7; total time=   4.2s\n",
      "[CV] END colsample_bytree=0.7, learning_rate=0.01, max_depth=5, n_estimators=100, reg_alpha=0.5, subsample=0.7; total time=   4.1s\n",
      "[CV] END colsample_bytree=0.7, learning_rate=0.01, max_depth=5, n_estimators=100, reg_alpha=0.5, subsample=0.7; total time=   4.4s\n",
      "[CV] END colsample_bytree=0.7, learning_rate=0.01, max_depth=5, n_estimators=100, reg_alpha=0.5, subsample=0.7; total time=   4.2s\n",
      "[CV] END colsample_bytree=0.7, learning_rate=0.01, max_depth=5, n_estimators=100, reg_alpha=0.5, subsample=0.7; total time=   4.1s\n",
      "[CV] END colsample_bytree=0.7, learning_rate=0.01, max_depth=5, n_estimators=100, reg_alpha=0.5, subsample=0.7; total time=   4.1s\n",
      "[CV] END colsample_bytree=0.7, learning_rate=0.1, max_depth=3, n_estimators=50, reg_alpha=0.1, subsample=0.7; total time=   1.4s\n",
      "[CV] END colsample_bytree=0.7, learning_rate=0.1, max_depth=3, n_estimators=50, reg_alpha=0.1, subsample=0.7; total time=   1.5s\n",
      "[CV] END colsample_bytree=0.7, learning_rate=0.1, max_depth=3, n_estimators=50, reg_alpha=0.1, subsample=0.7; total time=   1.4s\n",
      "[CV] END colsample_bytree=0.7, learning_rate=0.1, max_depth=3, n_estimators=50, reg_alpha=0.1, subsample=0.7; total time=   1.4s\n",
      "[CV] END colsample_bytree=0.7, learning_rate=0.1, max_depth=3, n_estimators=50, reg_alpha=0.1, subsample=0.7; total time=   1.5s\n",
      "[CV] END colsample_bytree=0.7, learning_rate=0.1, max_depth=3, n_estimators=50, reg_alpha=0.5, subsample=0.7; total time=   1.6s\n",
      "[CV] END colsample_bytree=0.7, learning_rate=0.1, max_depth=3, n_estimators=50, reg_alpha=0.5, subsample=0.7; total time=   1.4s\n",
      "[CV] END colsample_bytree=0.7, learning_rate=0.1, max_depth=3, n_estimators=50, reg_alpha=0.5, subsample=0.7; total time=   1.4s\n",
      "[CV] END colsample_bytree=0.7, learning_rate=0.1, max_depth=3, n_estimators=50, reg_alpha=0.5, subsample=0.7; total time=   1.4s\n",
      "[CV] END colsample_bytree=0.7, learning_rate=0.1, max_depth=3, n_estimators=50, reg_alpha=0.5, subsample=0.7; total time=   1.6s\n",
      "[CV] END colsample_bytree=0.7, learning_rate=0.1, max_depth=3, n_estimators=100, reg_alpha=0.1, subsample=0.7; total time=   2.0s\n",
      "[CV] END colsample_bytree=0.7, learning_rate=0.1, max_depth=3, n_estimators=100, reg_alpha=0.1, subsample=0.7; total time=   2.1s\n",
      "[CV] END colsample_bytree=0.7, learning_rate=0.1, max_depth=3, n_estimators=100, reg_alpha=0.1, subsample=0.7; total time=   2.0s\n",
      "[CV] END colsample_bytree=0.7, learning_rate=0.1, max_depth=3, n_estimators=100, reg_alpha=0.1, subsample=0.7; total time=   2.0s\n",
      "[CV] END colsample_bytree=0.7, learning_rate=0.1, max_depth=3, n_estimators=100, reg_alpha=0.1, subsample=0.7; total time=   2.0s\n",
      "[CV] END colsample_bytree=0.7, learning_rate=0.1, max_depth=3, n_estimators=100, reg_alpha=0.5, subsample=0.7; total time=   2.0s\n",
      "[CV] END colsample_bytree=0.7, learning_rate=0.1, max_depth=3, n_estimators=100, reg_alpha=0.5, subsample=0.7; total time=   2.0s\n",
      "[CV] END colsample_bytree=0.7, learning_rate=0.1, max_depth=3, n_estimators=100, reg_alpha=0.5, subsample=0.7; total time=   2.0s\n",
      "[CV] END colsample_bytree=0.7, learning_rate=0.1, max_depth=3, n_estimators=100, reg_alpha=0.5, subsample=0.7; total time=   2.0s\n",
      "[CV] END colsample_bytree=0.7, learning_rate=0.1, max_depth=3, n_estimators=100, reg_alpha=0.5, subsample=0.7; total time=   1.9s\n",
      "[CV] END colsample_bytree=0.7, learning_rate=0.1, max_depth=5, n_estimators=50, reg_alpha=0.1, subsample=0.7; total time=   2.4s\n",
      "[CV] END colsample_bytree=0.7, learning_rate=0.1, max_depth=5, n_estimators=50, reg_alpha=0.1, subsample=0.7; total time=   2.6s\n",
      "[CV] END colsample_bytree=0.7, learning_rate=0.1, max_depth=5, n_estimators=50, reg_alpha=0.1, subsample=0.7; total time=   2.4s\n",
      "[CV] END colsample_bytree=0.7, learning_rate=0.1, max_depth=5, n_estimators=50, reg_alpha=0.1, subsample=0.7; total time=   2.6s\n",
      "[CV] END colsample_bytree=0.7, learning_rate=0.1, max_depth=5, n_estimators=50, reg_alpha=0.1, subsample=0.7; total time=   2.4s\n",
      "[CV] END colsample_bytree=0.7, learning_rate=0.1, max_depth=5, n_estimators=50, reg_alpha=0.5, subsample=0.7; total time=   2.6s\n",
      "[CV] END colsample_bytree=0.7, learning_rate=0.1, max_depth=5, n_estimators=50, reg_alpha=0.5, subsample=0.7; total time=   2.4s\n",
      "[CV] END colsample_bytree=0.7, learning_rate=0.1, max_depth=5, n_estimators=50, reg_alpha=0.5, subsample=0.7; total time=   2.5s\n",
      "[CV] END colsample_bytree=0.7, learning_rate=0.1, max_depth=5, n_estimators=50, reg_alpha=0.5, subsample=0.7; total time=   2.8s\n",
      "[CV] END colsample_bytree=0.7, learning_rate=0.1, max_depth=5, n_estimators=50, reg_alpha=0.5, subsample=0.7; total time=   2.5s\n",
      "[CV] END colsample_bytree=0.7, learning_rate=0.1, max_depth=5, n_estimators=100, reg_alpha=0.1, subsample=0.7; total time=   3.9s\n",
      "[CV] END colsample_bytree=0.7, learning_rate=0.1, max_depth=5, n_estimators=100, reg_alpha=0.1, subsample=0.7; total time=   3.9s\n",
      "[CV] END colsample_bytree=0.7, learning_rate=0.1, max_depth=5, n_estimators=100, reg_alpha=0.1, subsample=0.7; total time=   4.0s\n",
      "[CV] END colsample_bytree=0.7, learning_rate=0.1, max_depth=5, n_estimators=100, reg_alpha=0.1, subsample=0.7; total time=   4.0s\n",
      "[CV] END colsample_bytree=0.7, learning_rate=0.1, max_depth=5, n_estimators=100, reg_alpha=0.1, subsample=0.7; total time=   3.9s\n",
      "[CV] END colsample_bytree=0.7, learning_rate=0.1, max_depth=5, n_estimators=100, reg_alpha=0.5, subsample=0.7; total time=   4.0s\n",
      "[CV] END colsample_bytree=0.7, learning_rate=0.1, max_depth=5, n_estimators=100, reg_alpha=0.5, subsample=0.7; total time=   4.3s\n",
      "[CV] END colsample_bytree=0.7, learning_rate=0.1, max_depth=5, n_estimators=100, reg_alpha=0.5, subsample=0.7; total time=   4.0s\n",
      "[CV] END colsample_bytree=0.7, learning_rate=0.1, max_depth=5, n_estimators=100, reg_alpha=0.5, subsample=0.7; total time=   4.2s\n",
      "[CV] END colsample_bytree=0.7, learning_rate=0.1, max_depth=5, n_estimators=100, reg_alpha=0.5, subsample=0.7; total time=   4.1s\n",
      "Лучшие параметры: {'colsample_bytree': 0.7, 'learning_rate': 0.1, 'max_depth': 5, 'n_estimators': 100, 'reg_alpha': 0.1, 'subsample': 0.7}\n"
     ]
    }
   ],
   "source": [
    "# Обучение модели XGBoost\n",
    "from sklearn.model_selection import GridSearchCV\n",
    "\n",
    "# Задаём сетку гиперпараметров\n",
    "param_grid = {\n",
    "    'n_estimators': [50, 100],\n",
    "    'max_depth': [3, 5],\n",
    "    'learning_rate': [0.01, 0.1],\n",
    "    'subsample': [0.7],\n",
    "    'colsample_bytree': [0.7],\n",
    "    'reg_alpha': [0.1, 0.5]\n",
    "}\n",
    "\n",
    "model = XGBClassifier(\n",
    "    objective='binary:logistic',\n",
    "    eval_metric='logloss',\n",
    "    tree_method='hist', \n",
    "    device='cuda'\n",
    ")\n",
    "\n",
    "grid_search = GridSearchCV(\n",
    "    estimator=model,\n",
    "    param_grid=param_grid,\n",
    "    cv=5,\n",
    "    scoring='neg_log_loss',\n",
    "    verbose=2,\n",
    "    n_jobs=1\n",
    ")\n",
    "\n",
    "# Поиск лучших гиперпараметров\n",
    "grid_search.fit(X_train, y_train) # type: ignore\n",
    "\n",
    "# Лучшая модель и параметры\n",
    "best_model = grid_search.best_estimator_\n",
    "print(\"Лучшие параметры:\", grid_search.best_params_)"
   ]
  },
  {
   "cell_type": "markdown",
   "id": "41e50689",
   "metadata": {},
   "source": [
    "## Оценка модели"
   ]
  },
  {
   "cell_type": "code",
   "execution_count": null,
   "id": "93898e6d",
   "metadata": {},
   "outputs": [
    {
     "name": "stdout",
     "output_type": "stream",
     "text": [
      "Accuracy: 0.7250\n",
      "F1 Score: 0.7188\n",
      "ROC-AUC: 0.8074\n"
     ]
    }
   ],
   "source": [
    "# Оценка модели\n",
    "y_pred = best_model.predict(X_test)\n",
    "y_proba = best_model.predict_proba(X_test)[:, 1]\n",
    "\n",
    "print(f\"Accuracy: {accuracy_score(y_test, y_pred):.4f}\")\n",
    "print(f\"F1 Score: {f1_score(y_test, y_pred):.4f}\")\n",
    "print(f\"ROC-AUC: {roc_auc_score(y_test, y_proba):.4f}\")\n"
   ]
  },
  {
   "cell_type": "code",
   "execution_count": 19,
   "id": "265d77d1",
   "metadata": {},
   "outputs": [
    {
     "data": {
      "image/png": "[encoded data removed]",
      "text/plain": [
       "<Figure size 600x600 with 1 Axes>"
      ]
     },
     "metadata": {},
     "output_type": "display_data"
    }
   ],
   "source": [
    "import matplotlib.pyplot as plt\n",
    "from sklearn.metrics import roc_curve, roc_auc_score\n",
    "\n",
    "# Строим ROC-кривую для бинарной классификации\n",
    "fpr, tpr, thresholds = roc_curve(y_test, y_proba)\n",
    "roc_auc = roc_auc_score(y_test, y_proba)\n",
    "\n",
    "# График\n",
    "plt.figure(figsize=(6, 6))\n",
    "plt.plot(fpr, tpr, color='blue', lw=2, label='ROC-кривая (AUC = %0.4f)' % roc_auc)\n",
    "plt.plot([0, 1], [0, 1], color='red', lw=1, linestyle='--')\n",
    "plt.xlabel('False Positive Rate (FPR)')\n",
    "plt.ylabel('True Positive Rate (TPR)')\n",
    "plt.title('ROC-кривая')\n",
    "plt.legend(loc='lower right')\n",
    "plt.grid(True)\n",
    "plt.show()"
   ]
  },
  {
   "cell_type": "markdown",
   "id": "dcb80bd7",
   "metadata": {},
   "source": [
    "## Cохранение модели "
   ]
  },
  {
   "cell_type": "code",
   "execution_count": null,
   "id": "0c7094ad",
   "metadata": {},
   "outputs": [],
   "source": [
    "import joblib\n",
    "# Сохраняем модель\n",
    "joblib.dump(best_model, r'D:\\URFU\\VKR\\Ind_pract\\dissert\\data\\checkpoints\\best_xgb_model.joblib')"
   ]
  },
  {
   "cell_type": "markdown",
   "id": "4ffd1575",
   "metadata": {},
   "source": [
    "## Инференс"
   ]
  },
  {
   "cell_type": "code",
   "execution_count": 7,
   "id": "10972253",
   "metadata": {},
   "outputs": [
    {
     "name": "stdout",
     "output_type": "stream",
     "text": [
      "Предсказание: Класс 0\n",
      "Вероятность: 0.367000013589859\n",
      "Время инференса: 0.6644 секунд\n"
     ]
    }
   ],
   "source": [
    "import numpy as np\n",
    "import torch\n",
    "import torchvision.models as models\n",
    "from PIL import Image\n",
    "import joblib\n",
    "from torchvision import transforms\n",
    "import time\n",
    "\n",
    "# Функция для загрузки и предобработки изображения\n",
    "def preprocess_image(image_path):\n",
    "    transform = transforms.Compose([\n",
    "        transforms.Resize(256),\n",
    "        transforms.CenterCrop(224),\n",
    "        transforms.ToTensor(),\n",
    "        transforms.Normalize(mean=[0.485, 0.456, 0.406], \n",
    "                             std=[0.229, 0.224, 0.225])\n",
    "    ])\n",
    "    \n",
    "    img = Image.open(image_path).convert('RGB')\n",
    "    return transform(img).unsqueeze(0)   # type: ignore\n",
    "\n",
    "# Функция для извлечения признаков\n",
    "def extract_features_for_inference(image_tensor):\n",
    "    device = torch.device('cuda' if torch.cuda.is_available() else 'cpu')\n",
    "    \n",
    "    # Загружаем ResNet50 без головы\n",
    "    model = models.resnet50(weights=models.ResNet50_Weights.IMAGENET1K_V1)\n",
    "    model = torch.nn.Sequential(*list(model.children())[:-1])\n",
    "    model.eval()\n",
    "    model.to(device)\n",
    "    \n",
    "    with torch.no_grad():\n",
    "        features = model(image_tensor.to(device))\n",
    "        return features.view(features.size(0), -1).cpu().numpy()\n",
    "\n",
    "# Загрузка обученной модели\n",
    "model_path = r'D:\\URFU\\VKR\\Ind_pract\\dissert\\data\\checkpoints\\best_xgb_model.joblib'\n",
    "loaded_model = joblib.load(model_path)\n",
    "\n",
    "# Функция инференса с измерением времени\n",
    "def predict_image(image_path):\n",
    "    start_time = time.time() \n",
    "    \n",
    "    # Предобработка изображения\n",
    "    preprocessed_img = preprocess_image(image_path)\n",
    "    \n",
    "    # Извлечение признаков\n",
    "    features = extract_features_for_inference(preprocessed_img)\n",
    "    \n",
    "    # Предсказание\n",
    "    proba = loaded_model.predict_proba(features)[0][1]\n",
    "    prediction = loaded_model.predict(features)[0]\n",
    "    \n",
    "    end_time = time.time() \n",
    "    inference_time = end_time - start_time\n",
    "    \n",
    "    return {\n",
    "        'class': int(prediction),\n",
    "        'probability': round(proba, 4),\n",
    "        'time': round(inference_time, 4)\n",
    "    }\n",
    "\n",
    "# Пример использования\n",
    "test_image_path = r\"D:\\URFU\\VKR\\Ind_pract\\dissert\\data\\segmentation\\train\\images\\83-5-076-494_037_017.png\"\n",
    "\n",
    "result = predict_image(test_image_path)\n",
    "print(f\"Предсказание: Класс {result['class']}\")\n",
    "print(f\"Вероятность: {result['probability']}\" )\n",
    "print(f\"Время инференса: {result['time']} секунд\")"
   ]
  }
 ],
 "metadata": {
  "kernelspec": {
   "display_name": "vkr",
   "language": "python",
   "name": "python3"
  },
  "language_info": {
   "codemirror_mode": {
    "name": "ipython",
    "version": 3
   },
   "file_extension": ".py",
   "mimetype": "text/x-python",
   "name": "python",
   "nbconvert_exporter": "python",
   "pygments_lexer": "ipython3",
   "version": "3.13.3"
  }
 },
 "nbformat": 4,
 "nbformat_minor": 5
}
